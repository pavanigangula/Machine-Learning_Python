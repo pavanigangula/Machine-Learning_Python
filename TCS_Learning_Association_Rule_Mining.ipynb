{
 "cells": [
  {
   "cell_type": "code",
   "execution_count": 1,
   "metadata": {},
   "outputs": [],
   "source": [
    "Data = [['Power Bank', 'Screen Guard' , 'Travel Charger'],\n",
    " ['Screen Guard', 'Bluetooth Headset', 'Mobile Cover'],\n",
    " ['Screen Guard','Arm Band','Mobile Cover'],\n",
    " ['Power Bank','Screen Guard','Leather Pouch'],\n",
    " ['Bluetooth Headset', 'Power Bank' , 'Mobile Cover']]"
   ]
  },
  {
   "cell_type": "code",
   "execution_count": 2,
   "metadata": {},
   "outputs": [],
   "source": [
    "import pandas as pd\n",
    "from mlxtend.preprocessing import OnehotTransactions\n",
    "from mlxtend.frequent_patterns import apriori"
   ]
  },
  {
   "cell_type": "code",
   "execution_count": 3,
   "metadata": {},
   "outputs": [
    {
     "name": "stderr",
     "output_type": "stream",
     "text": [
      "C:\\ProgramData\\Anaconda3\\lib\\site-packages\\mlxtend\\preprocessing\\onehot.py:66: DeprecationWarning: OnehotTransactions has been deprecated and will be removed in future. Please use TransactionEncoder instead.\n",
      "  warnings.warn(msg, DeprecationWarning)\n"
     ]
    }
   ],
   "source": [
    "oht = OnehotTransactions()\n",
    "oht_ary = oht.fit(Data).transform(Data)\n",
    "dataFrame = pd.DataFrame(oht_ary, columns=oht.columns_)\n",
    "frequent_itemsets = apriori(dataFrame, min_support=0.1, use_colnames=True)"
   ]
  },
  {
   "cell_type": "code",
   "execution_count": 4,
   "metadata": {},
   "outputs": [
    {
     "name": "stdout",
     "output_type": "stream",
     "text": [
      "                          antecedents                   consequents  \\\n",
      "0                          (Arm Band)                (Mobile Cover)   \n",
      "1                          (Arm Band)                (Screen Guard)   \n",
      "2                 (Bluetooth Headset)                (Mobile Cover)   \n",
      "3                     (Leather Pouch)                  (Power Bank)   \n",
      "4                     (Leather Pouch)                (Screen Guard)   \n",
      "5                    (Travel Charger)                  (Power Bank)   \n",
      "6                    (Travel Charger)                (Screen Guard)   \n",
      "7            (Mobile Cover, Arm Band)                (Screen Guard)   \n",
      "8            (Screen Guard, Arm Band)                (Mobile Cover)   \n",
      "9                          (Arm Band)  (Mobile Cover, Screen Guard)   \n",
      "10         (Mobile Cover, Power Bank)           (Bluetooth Headset)   \n",
      "11    (Bluetooth Headset, Power Bank)                (Mobile Cover)   \n",
      "12  (Bluetooth Headset, Screen Guard)                (Mobile Cover)   \n",
      "13        (Leather Pouch, Power Bank)                (Screen Guard)   \n",
      "14      (Screen Guard, Leather Pouch)                  (Power Bank)   \n",
      "15                    (Leather Pouch)    (Screen Guard, Power Bank)   \n",
      "16     (Travel Charger, Screen Guard)                  (Power Bank)   \n",
      "17       (Travel Charger, Power Bank)                (Screen Guard)   \n",
      "18                   (Travel Charger)    (Screen Guard, Power Bank)   \n",
      "\n",
      "    antecedent support  consequent support  support  confidence      lift  \\\n",
      "0                  0.2                 0.6      0.2         1.0  1.666667   \n",
      "1                  0.2                 0.8      0.2         1.0  1.250000   \n",
      "2                  0.4                 0.6      0.4         1.0  1.666667   \n",
      "3                  0.2                 0.6      0.2         1.0  1.666667   \n",
      "4                  0.2                 0.8      0.2         1.0  1.250000   \n",
      "5                  0.2                 0.6      0.2         1.0  1.666667   \n",
      "6                  0.2                 0.8      0.2         1.0  1.250000   \n",
      "7                  0.2                 0.8      0.2         1.0  1.250000   \n",
      "8                  0.2                 0.6      0.2         1.0  1.666667   \n",
      "9                  0.2                 0.4      0.2         1.0  2.500000   \n",
      "10                 0.2                 0.4      0.2         1.0  2.500000   \n",
      "11                 0.2                 0.6      0.2         1.0  1.666667   \n",
      "12                 0.2                 0.6      0.2         1.0  1.666667   \n",
      "13                 0.2                 0.8      0.2         1.0  1.250000   \n",
      "14                 0.2                 0.6      0.2         1.0  1.666667   \n",
      "15                 0.2                 0.4      0.2         1.0  2.500000   \n",
      "16                 0.2                 0.6      0.2         1.0  1.666667   \n",
      "17                 0.2                 0.8      0.2         1.0  1.250000   \n",
      "18                 0.2                 0.4      0.2         1.0  2.500000   \n",
      "\n",
      "    leverage  conviction  \n",
      "0       0.08         inf  \n",
      "1       0.04         inf  \n",
      "2       0.16         inf  \n",
      "3       0.08         inf  \n",
      "4       0.04         inf  \n",
      "5       0.08         inf  \n",
      "6       0.04         inf  \n",
      "7       0.04         inf  \n",
      "8       0.08         inf  \n",
      "9       0.12         inf  \n",
      "10      0.12         inf  \n",
      "11      0.08         inf  \n",
      "12      0.08         inf  \n",
      "13      0.04         inf  \n",
      "14      0.08         inf  \n",
      "15      0.12         inf  \n",
      "16      0.08         inf  \n",
      "17      0.04         inf  \n",
      "18      0.12         inf  \n"
     ]
    }
   ],
   "source": [
    "from mlxtend.frequent_patterns import association_rules\n",
    "###Start code here\n",
    "association_rule = association_rules(frequent_itemsets, metric=\"confidence\", min_threshold=0.7)\n",
    "print(association_rule) "
   ]
  },
  {
   "cell_type": "code",
   "execution_count": 5,
   "metadata": {},
   "outputs": [],
   "source": [
    "support = 0.8\n",
    "lift = 1.25\n",
    "dualtons = 9\n",
    "###End code(approx 3 lines)\n",
    "with open(\"output.txt\", \"w\") as text_file:\n",
    "    text_file.write(\"support= %f\\n\" % support)\n",
    "    text_file.write(\"lift= %f\\n\" % lift)\n",
    "    text_file.write(\"dualtons= %f\\n\" % dualtons)"
   ]
  },
  {
   "cell_type": "code",
   "execution_count": null,
   "metadata": {},
   "outputs": [],
   "source": []
  }
 ],
 "metadata": {
  "kernelspec": {
   "display_name": "Python 3",
   "language": "python",
   "name": "python3"
  },
  "language_info": {
   "codemirror_mode": {
    "name": "ipython",
    "version": 3
   },
   "file_extension": ".py",
   "mimetype": "text/x-python",
   "name": "python",
   "nbconvert_exporter": "python",
   "pygments_lexer": "ipython3",
   "version": "3.6.4"
  }
 },
 "nbformat": 4,
 "nbformat_minor": 2
}
