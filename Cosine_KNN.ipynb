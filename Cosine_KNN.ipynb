{
 "cells": [
  {
   "cell_type": "code",
   "execution_count": 1,
   "metadata": {},
   "outputs": [],
   "source": [
    "import numpy as np\n",
    "import math\n",
    "import operator\n",
    "import pandas as pd"
   ]
  },
  {
   "cell_type": "code",
   "execution_count": 2,
   "metadata": {},
   "outputs": [],
   "source": [
    "def cosine_similarity(v1,v2):\n",
    "    \"compute cosine similarity of v1 to v2: (v1 dot v2)/{||v1||*||v2||)\"\n",
    "    sumxx, sumxy, sumyy = 0, 0, 0\n",
    "    for i in range(len(v1)):\n",
    "        x = v1[i]; y = v2[i]\n",
    "        sumxx += x*x\n",
    "        sumyy += y*y\n",
    "        sumxy += x*y\n",
    "    return sumxy/math.sqrt(sumxx*sumyy)"
   ]
  },
  {
   "cell_type": "code",
   "execution_count": 3,
   "metadata": {},
   "outputs": [],
   "source": [
    "# Defining our KNN model\n",
    "\n",
    "def KNN(trainingset, testInstance,K):\n",
    "    distance={}\n",
    "    sort={}\n",
    "    length=testInstance.shape[1]\n",
    "    \n",
    "    # Start of step 3\n",
    "    # Calculate the eucludian distance between eah row of training data test data\n",
    "    for x in range(len(trainingset)):\n",
    "        \n",
    "        # Start of step 3.1\n",
    "        dist = cosine_similarity(testInstance,trainingset.iloc[x])\n",
    "        \n",
    "        distance[x]=dist[0]\n",
    "        \n",
    "    # Start of step 3.2(sorting all distances)\n",
    "    sorted_d=sorted(distance.items(),key=operator.itemgetter(1))\n",
    "    \n",
    "    neighbors=[]\n",
    "    \n",
    "    #Starting of step 3.3(Getting top 3 rows)\n",
    "    for x in range(K):\n",
    "        neighbors.append(sorted_d[x][0])\n",
    "        \n",
    "    classvotes={}\n",
    "    \n",
    "    #Starting of step3.4(calculating most frequent classes in neighbors)\n",
    "    \n",
    "    for x in range(len(neighbors)):\n",
    "        response=trainingset.iloc[neighbors[x]][-1]\n",
    "        \n",
    "        if response in classvotes:\n",
    "            classvotes[response] += 1\n",
    "        else:\n",
    "            classvotes[response] = 1\n",
    "            \n",
    "    \n",
    "    #### Start of STEP 3.5(sorting votes)\n",
    "    \n",
    "    sortedVotes = sorted(classvotes.items(), key=operator.itemgetter(1), reverse=True)\n",
    "    return(sortedVotes[0][0], neighbors)\n",
    "    #### End of STEP 3.5\n",
    "\n",
    "            \n",
    "    \n",
    "        "
   ]
  },
  {
   "cell_type": "code",
   "execution_count": 4,
   "metadata": {},
   "outputs": [],
   "source": [
    "#Step-1: Importing the data\n",
    "import pandas as pd\n",
    "data=pd.read_csv('C:\\\\Users\\\\Pavani Gangula\\\\Downloads\\\\IRIS.csv',header='infer')"
   ]
  },
  {
   "cell_type": "code",
   "execution_count": 5,
   "metadata": {},
   "outputs": [],
   "source": [
    "# Creating a dummy testset\n",
    "testSet = [[7.2, 3.6, 5.1, 2.5]]\n",
    "test = pd.DataFrame(testSet)"
   ]
  },
  {
   "cell_type": "code",
   "execution_count": 6,
   "metadata": {},
   "outputs": [
    {
     "data": {
      "text/plain": [
       "pandas.core.frame.DataFrame"
      ]
     },
     "execution_count": 6,
     "metadata": {},
     "output_type": "execute_result"
    }
   ],
   "source": [
    "type(test)"
   ]
  },
  {
   "cell_type": "code",
   "execution_count": 7,
   "metadata": {},
   "outputs": [],
   "source": [
    "#### Start of STEP 2\n",
    "# Setting number of neighbors = 1\n",
    "K = 1\n",
    "#### End of STEP 2\n",
    "# Running KNN model\n",
    "result,neigh = KNN(data, test, K)"
   ]
  },
  {
   "cell_type": "code",
   "execution_count": 8,
   "metadata": {},
   "outputs": [
    {
     "name": "stdout",
     "output_type": "stream",
     "text": [
      "setosa [13]\n"
     ]
    }
   ],
   "source": [
    "print(result,neigh)"
   ]
  },
  {
   "cell_type": "code",
   "execution_count": null,
   "metadata": {},
   "outputs": [],
   "source": []
  }
 ],
 "metadata": {
  "kernelspec": {
   "display_name": "Python 3",
   "language": "python",
   "name": "python3"
  },
  "language_info": {
   "codemirror_mode": {
    "name": "ipython",
    "version": 3
   },
   "file_extension": ".py",
   "mimetype": "text/x-python",
   "name": "python",
   "nbconvert_exporter": "python",
   "pygments_lexer": "ipython3",
   "version": "3.6.4"
  }
 },
 "nbformat": 4,
 "nbformat_minor": 2
}
