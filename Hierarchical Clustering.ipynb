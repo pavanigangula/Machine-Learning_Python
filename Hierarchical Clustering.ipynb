{
 "cells": [
  {
   "cell_type": "code",
   "execution_count": 2,
   "metadata": {},
   "outputs": [],
   "source": [
    "from sklearn.datasets import make_blobs, make_circles\n",
    "from scipy.cluster.hierarchy import linkage, dendrogram, cut_tree\n",
    "import numpy as np\n",
    "import pandas as pd"
   ]
  },
  {
   "cell_type": "code",
   "execution_count": 4,
   "metadata": {},
   "outputs": [],
   "source": [
    "data1, cluster1 = make_blobs(n_samples=20, n_features=2, centers=2, random_state=12345)\n",
    "data2, cluster2 = make_circles(n_samples=100, random_state=12345)"
   ]
  },
  {
   "cell_type": "code",
   "execution_count": 5,
   "metadata": {},
   "outputs": [],
   "source": [
    "import matplotlib.pyplot as plt\n",
    "%matplotlib inline"
   ]
  },
  {
   "cell_type": "code",
   "execution_count": 6,
   "metadata": {},
   "outputs": [
    {
     "data": {
      "text/plain": [
       "<matplotlib.collections.PathCollection at 0x26b7f789b00>"
      ]
     },
     "execution_count": 6,
     "metadata": {},
     "output_type": "execute_result"
    },
    {
     "data": {
      "image/png": "[encoded data removed]",
      "text/plain": [
       "<matplotlib.figure.Figure at 0x26b7f6bf0f0>"
      ]
     },
     "metadata": {},
     "output_type": "display_data"
    }
   ],
   "source": [
    "plt.scatter(data2[:,0],data2[:,1])"
   ]
  },
  {
   "cell_type": "code",
   "execution_count": 7,
   "metadata": {},
   "outputs": [],
   "source": [
    "from sklearn.cluster import KMeans\n",
    "km = KMeans(n_clusters=2,n_init=40)"
   ]
  },
  {
   "cell_type": "code",
   "execution_count": 10,
   "metadata": {},
   "outputs": [
    {
     "data": {
      "text/plain": [
       "array([0, 0, 0, 1, 0, 1, 1, 0, 0, 0, 0, 1, 0, 1, 1, 1, 0, 1, 0, 0, 0, 1,\n",
       "       1, 0, 1, 1, 1, 0, 0, 1, 1, 1, 0, 1, 0, 0, 1, 0, 1, 1, 0, 0, 0, 1,\n",
       "       1, 1, 1, 0, 1, 0, 0, 0, 0, 0, 0, 0, 1, 1, 1, 0, 0, 0, 1, 1, 1, 1,\n",
       "       1, 0, 0, 1, 1, 1, 1, 1, 1, 0, 1, 1, 0, 0, 0, 1, 0, 0, 0, 1, 0, 1,\n",
       "       0, 0, 1, 1, 1, 1, 0, 0, 0, 1, 0, 1])"
      ]
     },
     "execution_count": 10,
     "metadata": {},
     "output_type": "execute_result"
    }
   ],
   "source": [
    "km.labels_"
   ]
  },
  {
   "cell_type": "code",
   "execution_count": 8,
   "metadata": {},
   "outputs": [
    {
     "data": {
      "text/plain": [
       "KMeans(algorithm='auto', copy_x=True, init='k-means++', max_iter=300,\n",
       "    n_clusters=2, n_init=40, n_jobs=1, precompute_distances='auto',\n",
       "    random_state=None, tol=0.0001, verbose=0)"
      ]
     },
     "execution_count": 8,
     "metadata": {},
     "output_type": "execute_result"
    }
   ],
   "source": [
    "km.fit(X=data2)"
   ]
  },
  {
   "cell_type": "code",
   "execution_count": 11,
   "metadata": {},
   "outputs": [
    {
     "data": {
      "text/plain": [
       "<matplotlib.collections.PathCollection at 0x26b7fe79240>"
      ]
     },
     "execution_count": 11,
     "metadata": {},
     "output_type": "execute_result"
    },
    {
     "data": {
      "image/png": "[encoded data removed]",
      "text/plain": [
       "<matplotlib.figure.Figure at 0x26b7fecfac8>"
      ]
     },
     "metadata": {},
     "output_type": "display_data"
    }
   ],
   "source": [
    "plt.scatter(data2[km.labels_==0,0],data2[km.labels_==0,1], c='red')\n",
    "plt.scatter(data2[km.labels_==1,0],data2[km.labels_==1,1], c='blue')"
   ]
  },
  {
   "cell_type": "code",
   "execution_count": 12,
   "metadata": {},
   "outputs": [
    {
     "data": {
      "text/plain": [
       "49.128702369143596"
      ]
     },
     "execution_count": 12,
     "metadata": {},
     "output_type": "execute_result"
    }
   ],
   "source": [
    "km.inertia_"
   ]
  },
  {
   "cell_type": "code",
   "execution_count": 13,
   "metadata": {},
   "outputs": [],
   "source": [
    "inertias = []\n",
    "for k in [2,3,4,5,6,7]:\n",
    "    km = KMeans(n_clusters=k,n_init=40)\n",
    "    inertia = km.fit(data2).inertia_\n",
    "    inertias.append(inertia)"
   ]
  },
  {
   "cell_type": "code",
   "execution_count": 14,
   "metadata": {},
   "outputs": [
    {
     "data": {
      "text/plain": [
       "[<matplotlib.lines.Line2D at 0x26b004256a0>]"
      ]
     },
     "execution_count": 14,
     "metadata": {},
     "output_type": "execute_result"
    },
    {
     "data": {
      "image/png": "[encoded data removed]",
      "text/plain": [
       "<matplotlib.figure.Figure at 0x26b7fecf550>"
      ]
     },
     "metadata": {},
     "output_type": "display_data"
    }
   ],
   "source": [
    "plt.plot([2,3,4,5,6,7], inertias)"
   ]
  },
  {
   "cell_type": "code",
   "execution_count": 23,
   "metadata": {},
   "outputs": [],
   "source": [
    "link1=linkage(y=data1, method='complete')"
   ]
  },
  {
   "cell_type": "code",
   "execution_count": 24,
   "metadata": {
    "scrolled": true
   },
   "outputs": [
    {
     "data": {
      "text/plain": [
       "array([[ 7.        , 14.        ,  0.18959391,  2.        ],\n",
       "       [ 5.        , 10.        ,  0.29388326,  2.        ],\n",
       "       [ 8.        , 11.        ,  0.5201785 ,  2.        ],\n",
       "       [15.        , 17.        ,  0.68595656,  2.        ],\n",
       "       [21.        , 22.        ,  0.68886057,  4.        ],\n",
       "       [ 4.        , 16.        ,  0.84012808,  2.        ],\n",
       "       [13.        , 20.        ,  0.85166295,  3.        ],\n",
       "       [ 3.        , 12.        ,  0.87376693,  2.        ],\n",
       "       [ 1.        , 18.        ,  1.08332484,  2.        ],\n",
       "       [ 0.        , 23.        ,  1.20574882,  3.        ],\n",
       "       [ 6.        , 19.        ,  1.66125302,  2.        ],\n",
       "       [24.        , 25.        ,  1.67561411,  6.        ],\n",
       "       [ 2.        , 28.        ,  2.25855817,  3.        ],\n",
       "       [ 9.        , 26.        ,  2.35455865,  4.        ],\n",
       "       [27.        , 31.        ,  2.78168523,  8.        ],\n",
       "       [29.        , 32.        ,  3.36040207,  6.        ],\n",
       "       [30.        , 34.        ,  3.98644314, 10.        ],\n",
       "       [33.        , 35.        ,  5.29058637, 10.        ],\n",
       "       [36.        , 37.        , 20.76222171, 20.        ]])"
      ]
     },
     "execution_count": 24,
     "metadata": {},
     "output_type": "execute_result"
    }
   ],
   "source": [
    "link1"
   ]
  },
  {
   "cell_type": "code",
   "execution_count": 19,
   "metadata": {},
   "outputs": [
    {
     "data": {
      "image/png": "[encoded data removed]",
      "text/plain": [
       "<matplotlib.figure.Figure at 0x26b0067a780>"
      ]
     },
     "metadata": {},
     "output_type": "display_data"
    }
   ],
   "source": [
    "den1=dendrogram(link1)"
   ]
  },
  {
   "cell_type": "code",
   "execution_count": 27,
   "metadata": {},
   "outputs": [
    {
     "data": {
      "text/plain": [
       "array([[0],\n",
       "       [0],\n",
       "       [0],\n",
       "       [1],\n",
       "       [1],\n",
       "       [1],\n",
       "       [1],\n",
       "       [0],\n",
       "       [1],\n",
       "       [0],\n",
       "       [1],\n",
       "       [1],\n",
       "       [1],\n",
       "       [0],\n",
       "       [0],\n",
       "       [0],\n",
       "       [1],\n",
       "       [0],\n",
       "       [0],\n",
       "       [1]])"
      ]
     },
     "execution_count": 27,
     "metadata": {},
     "output_type": "execute_result"
    }
   ],
   "source": [
    "cut_tree(Z=link1,height=10)"
   ]
  },
  {
   "cell_type": "code",
   "execution_count": 28,
   "metadata": {},
   "outputs": [],
   "source": [
    "link2=linkage(y=data2, method='complete')"
   ]
  },
  {
   "cell_type": "code",
   "execution_count": 29,
   "metadata": {},
   "outputs": [
    {
     "data": {
      "text/plain": [
       "array([[4.00000000e+01, 4.90000000e+01, 1.00464831e-01, 2.00000000e+00],\n",
       "       [4.50000000e+01, 7.30000000e+01, 1.00464831e-01, 2.00000000e+00],\n",
       "       [5.10000000e+01, 6.80000000e+01, 1.00464831e-01, 2.00000000e+00],\n",
       "       [2.50000000e+01, 9.30000000e+01, 1.00464831e-01, 2.00000000e+00],\n",
       "       [0.00000000e+00, 6.70000000e+01, 1.00464831e-01, 2.00000000e+00],\n",
       "       [1.20000000e+01, 4.20000000e+01, 1.00464831e-01, 2.00000000e+00],\n",
       "       [1.90000000e+01, 2.70000000e+01, 1.00464831e-01, 2.00000000e+00],\n",
       "       [6.10000000e+01, 8.80000000e+01, 1.00464831e-01, 2.00000000e+00],\n",
       "       [8.40000000e+01, 8.90000000e+01, 1.00464831e-01, 2.00000000e+00],\n",
       "       [5.70000000e+01, 6.40000000e+01, 1.00464831e-01, 2.00000000e+00],\n",
       "       [3.10000000e+01, 7.60000000e+01, 1.00464831e-01, 2.00000000e+00],\n",
       "       [1.70000000e+01, 6.30000000e+01, 1.00464831e-01, 2.00000000e+00],\n",
       "       [3.00000000e+00, 9.10000000e+01, 1.00464831e-01, 2.00000000e+00],\n",
       "       [6.00000000e+00, 4.30000000e+01, 1.00464831e-01, 2.00000000e+00],\n",
       "       [3.60000000e+01, 4.80000000e+01, 1.00464831e-01, 2.00000000e+00],\n",
       "       [3.30000000e+01, 6.50000000e+01, 1.00464831e-01, 2.00000000e+00],\n",
       "       [2.00000000e+01, 7.80000000e+01, 1.00464831e-01, 2.00000000e+00],\n",
       "       [2.00000000e+00, 2.30000000e+01, 1.00464831e-01, 2.00000000e+00],\n",
       "       [5.40000000e+01, 8.30000000e+01, 1.00464831e-01, 2.00000000e+00],\n",
       "       [9.20000000e+01, 9.90000000e+01, 1.00464831e-01, 2.00000000e+00],\n",
       "       [1.60000000e+01, 2.80000000e+01, 1.25581039e-01, 2.00000000e+00],\n",
       "       [9.00000000e+00, 9.40000000e+01, 1.25581039e-01, 2.00000000e+00],\n",
       "       [2.10000000e+01, 2.60000000e+01, 1.25581039e-01, 2.00000000e+00],\n",
       "       [5.00000000e+00, 3.80000000e+01, 1.25581039e-01, 2.00000000e+00],\n",
       "       [4.00000000e+00, 5.90000000e+01, 1.25581039e-01, 2.00000000e+00],\n",
       "       [1.00000000e+01, 9.80000000e+01, 1.25581039e-01, 2.00000000e+00],\n",
       "       [1.80000000e+01, 3.70000000e+01, 1.25581039e-01, 2.00000000e+00],\n",
       "       [3.40000000e+01, 7.50000000e+01, 1.25581039e-01, 2.00000000e+00],\n",
       "       [4.70000000e+01, 7.90000000e+01, 1.25581039e-01, 2.00000000e+00],\n",
       "       [3.90000000e+01, 4.40000000e+01, 1.25581039e-01, 2.00000000e+00],\n",
       "       [1.10000000e+01, 7.00000000e+01, 1.25581039e-01, 2.00000000e+00],\n",
       "       [1.50000000e+01, 2.40000000e+01, 1.25581039e-01, 2.00000000e+00],\n",
       "       [5.60000000e+01, 6.90000000e+01, 1.25581039e-01, 2.00000000e+00],\n",
       "       [1.30000000e+01, 5.80000000e+01, 1.25581039e-01, 2.00000000e+00],\n",
       "       [2.90000000e+01, 9.70000000e+01, 1.25581039e-01, 2.00000000e+00],\n",
       "       [3.00000000e+01, 8.10000000e+01, 1.25581039e-01, 2.00000000e+00],\n",
       "       [1.00000000e+00, 5.20000000e+01, 1.25581039e-01, 2.00000000e+00],\n",
       "       [7.00000000e+00, 8.00000000e+01, 1.25581039e-01, 2.00000000e+00],\n",
       "       [3.50000000e+01, 9.60000000e+01, 1.25581039e-01, 2.00000000e+00],\n",
       "       [8.50000000e+01, 8.70000000e+01, 1.25581039e-01, 2.00000000e+00],\n",
       "       [2.20000000e+01, 4.60000000e+01, 1.25581039e-01, 2.00000000e+00],\n",
       "       [8.00000000e+00, 8.20000000e+01, 2.00000000e-01, 2.00000000e+00],\n",
       "       [5.00000000e+01, 5.30000000e+01, 2.00000000e-01, 2.00000000e+00],\n",
       "       [3.20000000e+01, 4.10000000e+01, 2.00000000e-01, 2.00000000e+00],\n",
       "       [7.20000000e+01, 9.00000000e+01, 2.00000000e-01, 2.00000000e+00],\n",
       "       [6.00000000e+01, 9.50000000e+01, 2.00000000e-01, 2.00000000e+00],\n",
       "       [6.20000000e+01, 6.60000000e+01, 2.00000000e-01, 2.00000000e+00],\n",
       "       [5.50000000e+01, 8.60000000e+01, 2.00000000e-01, 2.00000000e+00],\n",
       "       [1.40000000e+01, 1.03000000e+02, 2.00533174e-01, 3.00000000e+00],\n",
       "       [7.40000000e+01, 1.13000000e+02, 2.00533174e-01, 3.00000000e+00],\n",
       "       [7.70000000e+01, 1.14000000e+02, 2.00533174e-01, 3.00000000e+00],\n",
       "       [1.02000000e+02, 1.20000000e+02, 2.29382820e-01, 4.00000000e+00],\n",
       "       [1.01000000e+02, 1.22000000e+02, 2.29382820e-01, 4.00000000e+00],\n",
       "       [1.00000000e+02, 1.21000000e+02, 2.29382820e-01, 4.00000000e+00],\n",
       "       [1.04000000e+02, 1.24000000e+02, 2.29382820e-01, 4.00000000e+00],\n",
       "       [1.09000000e+02, 1.29000000e+02, 2.29382820e-01, 4.00000000e+00],\n",
       "       [1.06000000e+02, 1.26000000e+02, 2.29382820e-01, 4.00000000e+00],\n",
       "       [1.07000000e+02, 1.28000000e+02, 2.29382820e-01, 4.00000000e+00],\n",
       "       [1.08000000e+02, 1.27000000e+02, 2.29382820e-01, 4.00000000e+00],\n",
       "       [1.05000000e+02, 1.25000000e+02, 2.29382820e-01, 4.00000000e+00],\n",
       "       [1.11000000e+02, 1.32000000e+02, 2.29382820e-01, 4.00000000e+00],\n",
       "       [7.10000000e+01, 1.15000000e+02, 2.29382820e-01, 3.00000000e+00],\n",
       "       [1.10000000e+02, 1.30000000e+02, 2.29382820e-01, 4.00000000e+00],\n",
       "       [1.16000000e+02, 1.37000000e+02, 2.29382820e-01, 4.00000000e+00],\n",
       "       [1.17000000e+02, 1.38000000e+02, 2.29382820e-01, 4.00000000e+00],\n",
       "       [1.19000000e+02, 1.40000000e+02, 2.29382820e-01, 4.00000000e+00],\n",
       "       [1.18000000e+02, 1.36000000e+02, 2.29382820e-01, 4.00000000e+00],\n",
       "       [1.23000000e+02, 1.48000000e+02, 3.00444574e-01, 5.00000000e+00],\n",
       "       [1.46000000e+02, 1.52000000e+02, 3.00444574e-01, 6.00000000e+00],\n",
       "       [1.41000000e+02, 1.51000000e+02, 3.00444574e-01, 6.00000000e+00],\n",
       "       [1.43000000e+02, 1.54000000e+02, 3.00444574e-01, 6.00000000e+00],\n",
       "       [1.33000000e+02, 1.49000000e+02, 3.00444574e-01, 5.00000000e+00],\n",
       "       [1.12000000e+02, 1.31000000e+02, 3.00444574e-01, 4.00000000e+00],\n",
       "       [1.42000000e+02, 1.56000000e+02, 3.00444574e-01, 6.00000000e+00],\n",
       "       [1.47000000e+02, 1.59000000e+02, 3.00444574e-01, 6.00000000e+00],\n",
       "       [1.44000000e+02, 1.60000000e+02, 3.00444574e-01, 6.00000000e+00],\n",
       "       [1.34000000e+02, 1.61000000e+02, 3.00444574e-01, 5.00000000e+00],\n",
       "       [1.35000000e+02, 1.50000000e+02, 3.00444574e-01, 5.00000000e+00],\n",
       "       [1.45000000e+02, 1.63000000e+02, 3.00444574e-01, 6.00000000e+00],\n",
       "       [1.39000000e+02, 1.72000000e+02, 3.74762629e-01, 6.00000000e+00],\n",
       "       [1.53000000e+02, 1.66000000e+02, 3.90330146e-01, 8.00000000e+00],\n",
       "       [1.65000000e+02, 1.67000000e+02, 4.87759482e-01, 9.00000000e+00],\n",
       "       [1.62000000e+02, 1.77000000e+02, 4.87759482e-01, 9.00000000e+00],\n",
       "       [1.57000000e+02, 1.70000000e+02, 4.97379774e-01, 1.00000000e+01],\n",
       "       [1.58000000e+02, 1.74000000e+02, 4.97379774e-01, 1.00000000e+01],\n",
       "       [1.55000000e+02, 1.75000000e+02, 4.97379774e-01, 1.00000000e+01],\n",
       "       [1.64000000e+02, 1.69000000e+02, 4.97379774e-01, 1.00000000e+01],\n",
       "       [1.71000000e+02, 1.79000000e+02, 6.18033989e-01, 1.10000000e+01],\n",
       "       [1.68000000e+02, 1.78000000e+02, 6.18033989e-01, 1.20000000e+01],\n",
       "       [1.76000000e+02, 1.81000000e+02, 7.36249105e-01, 1.40000000e+01],\n",
       "       [1.73000000e+02, 1.83000000e+02, 8.51558583e-01, 1.60000000e+01],\n",
       "       [1.80000000e+02, 1.86000000e+02, 9.63507348e-01, 1.80000000e+01],\n",
       "       [1.82000000e+02, 1.87000000e+02, 1.07165359e+00, 2.00000000e+01],\n",
       "       [1.85000000e+02, 1.90000000e+02, 1.36909421e+00, 2.60000000e+01],\n",
       "       [1.88000000e+02, 1.89000000e+02, 1.36909421e+00, 2.60000000e+01],\n",
       "       [1.84000000e+02, 1.91000000e+02, 1.45793725e+00, 2.80000000e+01],\n",
       "       [1.92000000e+02, 1.93000000e+02, 1.96457450e+00, 4.60000000e+01],\n",
       "       [1.95000000e+02, 1.96000000e+02, 2.00000000e+00, 7.40000000e+01],\n",
       "       [1.94000000e+02, 1.97000000e+02, 2.00000000e+00, 1.00000000e+02]])"
      ]
     },
     "execution_count": 29,
     "metadata": {},
     "output_type": "execute_result"
    }
   ],
   "source": [
    "link2"
   ]
  },
  {
   "cell_type": "code",
   "execution_count": 30,
   "metadata": {},
   "outputs": [
    {
     "data": {
      "image/png": "[encoded data removed]",
      "text/plain": [
       "<matplotlib.figure.Figure at 0x26b00a60160>"
      ]
     },
     "metadata": {},
     "output_type": "display_data"
    }
   ],
   "source": [
    "den2=dendrogram(link2)"
   ]
  },
  {
   "cell_type": "code",
   "execution_count": 42,
   "metadata": {},
   "outputs": [
    {
     "data": {
      "text/plain": [
       "array([[0],\n",
       "       [1],\n",
       "       [1],\n",
       "       [2],\n",
       "       [0],\n",
       "       [3],\n",
       "       [2],\n",
       "       [3],\n",
       "       [1],\n",
       "       [1],\n",
       "       [1],\n",
       "       [2],\n",
       "       [1],\n",
       "       [2],\n",
       "       [3],\n",
       "       [2],\n",
       "       [1],\n",
       "       [0],\n",
       "       [0],\n",
       "       [0],\n",
       "       [3],\n",
       "       [3],\n",
       "       [3],\n",
       "       [1],\n",
       "       [2],\n",
       "       [3],\n",
       "       [3],\n",
       "       [0],\n",
       "       [1],\n",
       "       [3],\n",
       "       [2],\n",
       "       [2],\n",
       "       [0],\n",
       "       [3],\n",
       "       [1],\n",
       "       [1],\n",
       "       [2],\n",
       "       [0],\n",
       "       [3],\n",
       "       [0],\n",
       "       [1],\n",
       "       [0],\n",
       "       [1],\n",
       "       [2],\n",
       "       [0],\n",
       "       [3],\n",
       "       [3],\n",
       "       [0],\n",
       "       [2],\n",
       "       [1],\n",
       "       [0],\n",
       "       [1],\n",
       "       [1],\n",
       "       [0],\n",
       "       [1],\n",
       "       [1],\n",
       "       [0],\n",
       "       [0],\n",
       "       [2],\n",
       "       [0],\n",
       "       [3],\n",
       "       [0],\n",
       "       [3],\n",
       "       [0],\n",
       "       [0],\n",
       "       [3],\n",
       "       [3],\n",
       "       [0],\n",
       "       [1],\n",
       "       [0],\n",
       "       [2],\n",
       "       [3],\n",
       "       [0],\n",
       "       [3],\n",
       "       [2],\n",
       "       [1],\n",
       "       [2],\n",
       "       [2],\n",
       "       [3],\n",
       "       [0],\n",
       "       [3],\n",
       "       [2],\n",
       "       [1],\n",
       "       [1],\n",
       "       [1],\n",
       "       [2],\n",
       "       [1],\n",
       "       [2],\n",
       "       [0],\n",
       "       [1],\n",
       "       [0],\n",
       "       [2],\n",
       "       [3],\n",
       "       [3],\n",
       "       [1],\n",
       "       [3],\n",
       "       [1],\n",
       "       [3],\n",
       "       [1],\n",
       "       [3]])"
      ]
     },
     "execution_count": 42,
     "metadata": {},
     "output_type": "execute_result"
    }
   ],
   "source": [
    "cut_tree(Z=link2,height=1.75)"
   ]
  },
  {
   "cell_type": "code",
   "execution_count": 43,
   "metadata": {},
   "outputs": [],
   "source": [
    "clus2=cut_tree(link2, height=1.75)"
   ]
  },
  {
   "cell_type": "code",
   "execution_count": 44,
   "metadata": {},
   "outputs": [],
   "source": [
    "clus3=clus2.flatten()  #flatten is used to get the matrix in single array"
   ]
  },
  {
   "cell_type": "code",
   "execution_count": 45,
   "metadata": {},
   "outputs": [
    {
     "data": {
      "image/png": "[encoded data removed]",
      "text/plain": [
       "<matplotlib.figure.Figure at 0x26b00aff7b8>"
      ]
     },
     "metadata": {},
     "output_type": "display_data"
    }
   ],
   "source": [
    "plt.scatter(data2[clus3==0,0],data2[clus3==0,1],c='red')\n",
    "plt.scatter(data2[clus3==1,0],data2[clus3==1,1],c='blue')\n",
    "plt.scatter(data2[clus3==2,0],data2[clus3==2,1],c='green')\n",
    "plt.scatter(data2[clus3==3,0],data2[clus3==3,1],c='black')\n",
    "plt.show()\n"
   ]
  },
  {
   "cell_type": "code",
   "execution_count": 46,
   "metadata": {},
   "outputs": [],
   "source": [
    "link3=linkage(data2,method='single')"
   ]
  },
  {
   "cell_type": "code",
   "execution_count": 47,
   "metadata": {},
   "outputs": [
    {
     "data": {
      "image/png": "[encoded data removed]",
      "text/plain": [
       "<matplotlib.figure.Figure at 0x26b00b5c470>"
      ]
     },
     "metadata": {},
     "output_type": "display_data"
    }
   ],
   "source": [
    "den3=dendrogram(link3)"
   ]
  },
  {
   "cell_type": "code",
   "execution_count": 48,
   "metadata": {},
   "outputs": [],
   "source": [
    "clus4=cut_tree(link3,height=0.175).flatten()"
   ]
  },
  {
   "cell_type": "code",
   "execution_count": 49,
   "metadata": {},
   "outputs": [
    {
     "data": {
      "text/plain": [
       "<matplotlib.collections.PathCollection at 0x26b00729ba8>"
      ]
     },
     "execution_count": 49,
     "metadata": {},
     "output_type": "execute_result"
    },
    {
     "data": {
      "image/png": "[encoded data removed]",
      "text/plain": [
       "<matplotlib.figure.Figure at 0x26b00795630>"
      ]
     },
     "metadata": {},
     "output_type": "display_data"
    }
   ],
   "source": [
    "plt.scatter(data2[clus4==0,0],data2[clus4==0,1],c='red')\n",
    "plt.scatter(data2[clus4==1,0],data2[clus4==1,1],c='blue')\n"
   ]
  },
  {
   "cell_type": "code",
   "execution_count": 50,
   "metadata": {},
   "outputs": [],
   "source": [
    "data1_outlier=np.vstack([data1, np.array([50.5, 20.8])])"
   ]
  },
  {
   "cell_type": "code",
   "execution_count": 51,
   "metadata": {},
   "outputs": [],
   "source": [
    "link1_outlier=linkage(data1_outlier, method='complete')"
   ]
  },
  {
   "cell_type": "code",
   "execution_count": 52,
   "metadata": {},
   "outputs": [
    {
     "data": {
      "image/png": "[encoded data removed]",
      "text/plain": [
       "<matplotlib.figure.Figure at 0x26b007c2b00>"
      ]
     },
     "metadata": {},
     "output_type": "display_data"
    }
   ],
   "source": [
    "den_5=dendrogram(link1_outlier)"
   ]
  },
  {
   "cell_type": "code",
   "execution_count": null,
   "metadata": {},
   "outputs": [],
   "source": []
  }
 ],
 "metadata": {
  "kernelspec": {
   "display_name": "Python 3",
   "language": "python",
   "name": "python3"
  },
  "language_info": {
   "codemirror_mode": {
    "name": "ipython",
    "version": 3
   },
   "file_extension": ".py",
   "mimetype": "text/x-python",
   "name": "python",
   "nbconvert_exporter": "python",
   "pygments_lexer": "ipython3",
   "version": "3.6.4"
  }
 },
 "nbformat": 4,
 "nbformat_minor": 2
}
